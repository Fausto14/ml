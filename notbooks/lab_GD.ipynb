{
  "nbformat": 4,
  "nbformat_minor": 0,
  "metadata": {
    "kernelspec": {
      "display_name": "Python 3",
      "language": "python",
      "name": "python3"
    },
    "language_info": {
      "codemirror_mode": {
        "name": "ipython",
        "version": 3
      },
      "file_extension": ".py",
      "mimetype": "text/x-python",
      "name": "python",
      "nbconvert_exporter": "python",
      "pygments_lexer": "ipython3",
      "version": "3.7.6"
    },
    "colab": {
      "name": "lab_GD.ipynb",
      "provenance": [],
      "toc_visible": true
    }
  },
  "cells": [
    {
      "cell_type": "markdown",
      "metadata": {
        "id": "f2OEn1yQeCTK",
        "colab_type": "text"
      },
      "source": [
        "**IMPORTANTO AS BIBLIOTECAS**"
      ]
    },
    {
      "cell_type": "code",
      "metadata": {
        "id": "ce7PioXIZ-og",
        "colab_type": "code",
        "colab": {}
      },
      "source": [
        "import numpy as np\n",
        "import pandas as pd\n",
        "import matplotlib.pyplot as plt"
      ],
      "execution_count": 0,
      "outputs": []
    },
    {
      "cell_type": "markdown",
      "metadata": {
        "id": "blqPt2NMeMkz",
        "colab_type": "text"
      },
      "source": [
        "**DEFININDO A BASE DE DADOS**"
      ]
    },
    {
      "cell_type": "code",
      "metadata": {
        "id": "iuI9N7XMZ-op",
        "colab_type": "code",
        "colab": {}
      },
      "source": [
        "data_table = pd.DataFrame({'Peso': np.array([40.0, 93.5, 35.5, 30.0, 52.0, 17.0, 38.5,  8.5, 33.0,  9.5, 21.0, 79.0]) / 2.205,\n",
        "                            'Altura': np.array([42.8, 63.5, 37.5, 39.5, 45.5, 38.5, 43.0, 22.5, 37.0, 23.5, 33.0, 58.0]) / 39.37,\n",
        "                            'Cateter': [37, 50, 34, 36, 43, 28, 37, 20, 34, 30, 38, 47]},\n",
        "                            dtype='float')"
      ],
      "execution_count": 0,
      "outputs": []
    },
    {
      "cell_type": "code",
      "metadata": {
        "id": "2Nf0LW8ZZ-ou",
        "colab_type": "code",
        "outputId": "8cc08f27-1cad-4857-ab86-7a5906ecda68",
        "colab": {
          "base_uri": "https://localhost:8080/",
          "height": 421
        }
      },
      "source": [
        "data_table"
      ],
      "execution_count": 300,
      "outputs": [
        {
          "output_type": "execute_result",
          "data": {
            "text/html": [
              "<div>\n",
              "<style scoped>\n",
              "    .dataframe tbody tr th:only-of-type {\n",
              "        vertical-align: middle;\n",
              "    }\n",
              "\n",
              "    .dataframe tbody tr th {\n",
              "        vertical-align: top;\n",
              "    }\n",
              "\n",
              "    .dataframe thead th {\n",
              "        text-align: right;\n",
              "    }\n",
              "</style>\n",
              "<table border=\"1\" class=\"dataframe\">\n",
              "  <thead>\n",
              "    <tr style=\"text-align: right;\">\n",
              "      <th></th>\n",
              "      <th>Peso</th>\n",
              "      <th>Altura</th>\n",
              "      <th>Cateter</th>\n",
              "    </tr>\n",
              "  </thead>\n",
              "  <tbody>\n",
              "    <tr>\n",
              "      <th>0</th>\n",
              "      <td>18.140590</td>\n",
              "      <td>1.087122</td>\n",
              "      <td>37.0</td>\n",
              "    </tr>\n",
              "    <tr>\n",
              "      <th>1</th>\n",
              "      <td>42.403628</td>\n",
              "      <td>1.612903</td>\n",
              "      <td>50.0</td>\n",
              "    </tr>\n",
              "    <tr>\n",
              "      <th>2</th>\n",
              "      <td>16.099773</td>\n",
              "      <td>0.952502</td>\n",
              "      <td>34.0</td>\n",
              "    </tr>\n",
              "    <tr>\n",
              "      <th>3</th>\n",
              "      <td>13.605442</td>\n",
              "      <td>1.003302</td>\n",
              "      <td>36.0</td>\n",
              "    </tr>\n",
              "    <tr>\n",
              "      <th>4</th>\n",
              "      <td>23.582766</td>\n",
              "      <td>1.155702</td>\n",
              "      <td>43.0</td>\n",
              "    </tr>\n",
              "    <tr>\n",
              "      <th>5</th>\n",
              "      <td>7.709751</td>\n",
              "      <td>0.977902</td>\n",
              "      <td>28.0</td>\n",
              "    </tr>\n",
              "    <tr>\n",
              "      <th>6</th>\n",
              "      <td>17.460317</td>\n",
              "      <td>1.092202</td>\n",
              "      <td>37.0</td>\n",
              "    </tr>\n",
              "    <tr>\n",
              "      <th>7</th>\n",
              "      <td>3.854875</td>\n",
              "      <td>0.571501</td>\n",
              "      <td>20.0</td>\n",
              "    </tr>\n",
              "    <tr>\n",
              "      <th>8</th>\n",
              "      <td>14.965986</td>\n",
              "      <td>0.939802</td>\n",
              "      <td>34.0</td>\n",
              "    </tr>\n",
              "    <tr>\n",
              "      <th>9</th>\n",
              "      <td>4.308390</td>\n",
              "      <td>0.596901</td>\n",
              "      <td>30.0</td>\n",
              "    </tr>\n",
              "    <tr>\n",
              "      <th>10</th>\n",
              "      <td>9.523810</td>\n",
              "      <td>0.838202</td>\n",
              "      <td>38.0</td>\n",
              "    </tr>\n",
              "    <tr>\n",
              "      <th>11</th>\n",
              "      <td>35.827664</td>\n",
              "      <td>1.473203</td>\n",
              "      <td>47.0</td>\n",
              "    </tr>\n",
              "  </tbody>\n",
              "</table>\n",
              "</div>"
            ],
            "text/plain": [
              "         Peso    Altura  Cateter\n",
              "0   18.140590  1.087122     37.0\n",
              "1   42.403628  1.612903     50.0\n",
              "2   16.099773  0.952502     34.0\n",
              "3   13.605442  1.003302     36.0\n",
              "4   23.582766  1.155702     43.0\n",
              "5    7.709751  0.977902     28.0\n",
              "6   17.460317  1.092202     37.0\n",
              "7    3.854875  0.571501     20.0\n",
              "8   14.965986  0.939802     34.0\n",
              "9    4.308390  0.596901     30.0\n",
              "10   9.523810  0.838202     38.0\n",
              "11  35.827664  1.473203     47.0"
            ]
          },
          "metadata": {
            "tags": []
          },
          "execution_count": 300
        }
      ]
    },
    {
      "cell_type": "markdown",
      "metadata": {
        "id": "WXamRPZ0edt_",
        "colab_type": "text"
      },
      "source": [
        "**EXTRAINDO OS DADOS PARA ARRAY**"
      ]
    },
    {
      "cell_type": "code",
      "metadata": {
        "id": "qaOPHx4vZ-o0",
        "colab_type": "code",
        "colab": {}
      },
      "source": [
        "X = data_table[['Peso', 'Altura']].values\n",
        "y = data_table[['Cateter']].values"
      ],
      "execution_count": 0,
      "outputs": []
    },
    {
      "cell_type": "markdown",
      "metadata": {
        "id": "FjuPtr3e_IfH",
        "colab_type": "text"
      },
      "source": [
        "**NORMALIZAÇÃO DOS DADOS**\n"
      ]
    },
    {
      "cell_type": "code",
      "metadata": {
        "id": "fwNNVWKiZ-o_",
        "colab_type": "code",
        "colab": {}
      },
      "source": [
        "def normalization(X, normalization_type='std'):\n",
        "    X_mean = X.mean(axis = 0)\n",
        "    X_std = X.std(axis = 0)\n",
        "    return (X-X_mean)/ X_std, X_mean, X_std\n",
        "\n",
        "def denormalization(X, X_mean, X_std, normalization_type='std'):\n",
        "    return (X*X_std) + X_mean"
      ],
      "execution_count": 0,
      "outputs": []
    },
    {
      "cell_type": "code",
      "metadata": {
        "id": "QJ0TaS50Z-pE",
        "colab_type": "code",
        "colab": {}
      },
      "source": [
        "X_norm, X_mean, X_std = normalization(X)\n",
        "y_norm, y_mean, y_std = normalization(y)"
      ],
      "execution_count": 0,
      "outputs": []
    },
    {
      "cell_type": "code",
      "metadata": {
        "id": "0Mo0KT9TZ-pJ",
        "colab_type": "code",
        "colab": {}
      },
      "source": [
        "y_denorm = denormalization(y_norm,y_mean, y_std)\n",
        "X_denorm = denormalization(X_norm,X_mean, X_std)"
      ],
      "execution_count": 0,
      "outputs": []
    },
    {
      "cell_type": "markdown",
      "metadata": {
        "id": "kmJPTN82Ac0A",
        "colab_type": "text"
      },
      "source": [
        "**FUNÇÃO PARA INSERIR A COLUNA DE 1s EM X**"
      ]
    },
    {
      "cell_type": "code",
      "metadata": {
        "id": "E_i3c8rgAaOD",
        "colab_type": "code",
        "colab": {}
      },
      "source": [
        "def insert_ones(X):\n",
        "    ones = np.ones([X.shape[0],1])\n",
        "    return np.concatenate((ones,X) , axis=1)"
      ],
      "execution_count": 0,
      "outputs": []
    },
    {
      "cell_type": "markdown",
      "metadata": {
        "id": "dPxdtK-ODpY9",
        "colab_type": "text"
      },
      "source": [
        "**DEFININDO O CUSTO : MSE**"
      ]
    },
    {
      "cell_type": "code",
      "metadata": {
        "id": "Zc_J0eG7DvbO",
        "colab_type": "code",
        "colab": {}
      },
      "source": [
        "def custo(w,X,y):\n",
        "    N = len(X)\n",
        "    \n",
        "    erro = (X@w.T - y)\n",
        "    \n",
        "    custo = np.sum(np.power(erro,2))\n",
        "    \n",
        "    return custo/N"
      ],
      "execution_count": 0,
      "outputs": []
    },
    {
      "cell_type": "markdown",
      "metadata": {
        "id": "BVbgy13Z_S2z",
        "colab_type": "text"
      },
      "source": [
        "**GRADIENTE DESCENDENTE**"
      ]
    },
    {
      "cell_type": "code",
      "metadata": {
        "id": "r2OsGr90_hPe",
        "colab_type": "code",
        "colab": {}
      },
      "source": [
        "def gd(w, X, y, alpha, epoch):\n",
        "    cost = np.zeros(epoch)\n",
        "    \n",
        "    for i in range(epoch):\n",
        "        \n",
        "        w = w - (alpha/len(X)) * np.sum((X@w.T - y)*X, axis=0)\n",
        "        \n",
        "        cost[i] = custo(w, X, y)\n",
        "    \n",
        "    return w, cost "
      ],
      "execution_count": 0,
      "outputs": []
    },
    {
      "cell_type": "markdown",
      "metadata": {
        "id": "LBs7mVvdK0Ud",
        "colab_type": "text"
      },
      "source": [
        "**PEGANDO O NÚMERO DE FEATURES**"
      ]
    },
    {
      "cell_type": "code",
      "metadata": {
        "id": "Zm28XG5uK3yR",
        "colab_type": "code",
        "colab": {}
      },
      "source": [
        "n_features = len(data_table.columns)-1"
      ],
      "execution_count": 0,
      "outputs": []
    },
    {
      "cell_type": "markdown",
      "metadata": {
        "id": "anwIPhnRKRQ3",
        "colab_type": "text"
      },
      "source": [
        "**Criando um vetor de W's baseado na quantidades de features**"
      ]
    },
    {
      "cell_type": "code",
      "metadata": {
        "id": "lX2fvPXNKguy",
        "colab_type": "code",
        "colab": {
          "base_uri": "https://localhost:8080/",
          "height": 34
        },
        "outputId": "07d1e18d-5a3f-4e6e-cb4b-87a797c9c0ed"
      },
      "source": [
        "## Gerando valores aleatórios entre 0 e 1\n",
        "w = np.random.rand(1,n_features+1)\n",
        "w\n"
      ],
      "execution_count": 309,
      "outputs": [
        {
          "output_type": "execute_result",
          "data": {
            "text/plain": [
              "array([[0.99623324, 0.14965296, 0.07445305]])"
            ]
          },
          "metadata": {
            "tags": []
          },
          "execution_count": 309
        }
      ]
    },
    {
      "cell_type": "markdown",
      "metadata": {
        "id": "YCi4C63CLw_H",
        "colab_type": "text"
      },
      "source": [
        "**INICIALIZANDO**"
      ]
    },
    {
      "cell_type": "code",
      "metadata": {
        "id": "agYxlPfwLzpF",
        "colab_type": "code",
        "colab": {}
      },
      "source": [
        "X_norm = insert_ones(X_norm)\n",
        "alpha = 0.01\n",
        "epoch = 800"
      ],
      "execution_count": 0,
      "outputs": []
    },
    {
      "cell_type": "markdown",
      "metadata": {
        "id": "OFoLjouLMTTp",
        "colab_type": "text"
      },
      "source": [
        "**RODANDO O GD**"
      ]
    },
    {
      "cell_type": "code",
      "metadata": {
        "id": "rBolcmqZMcyM",
        "colab_type": "code",
        "colab": {
          "base_uri": "https://localhost:8080/",
          "height": 34
        },
        "outputId": "0444bace-cee4-4c73-84c2-f7fd85c44106"
      },
      "source": [
        "w, cost = gd(w, X_norm, y_norm, alpha, epoch)\n",
        "w"
      ],
      "execution_count": 311,
      "outputs": [
        {
          "output_type": "execute_result",
          "data": {
            "text/plain": [
              "array([[3.21008627e-04, 5.26082413e-01, 3.90394677e-01]])"
            ]
          },
          "metadata": {
            "tags": []
          },
          "execution_count": 311
        }
      ]
    },
    {
      "cell_type": "markdown",
      "metadata": {
        "id": "R4p1ILBjNsQ5",
        "colab_type": "text"
      },
      "source": [
        "**CUSTO FINAL**"
      ]
    },
    {
      "cell_type": "code",
      "metadata": {
        "id": "wkbrFIcbNv2A",
        "colab_type": "code",
        "colab": {
          "base_uri": "https://localhost:8080/",
          "height": 34
        },
        "outputId": "2ff2bc84-bac2-44c9-f034-aadf73735bf2"
      },
      "source": [
        "custo(w,X_norm, y_norm)"
      ],
      "execution_count": 312,
      "outputs": [
        {
          "output_type": "execute_result",
          "data": {
            "text/plain": [
              "0.17517649785393255"
            ]
          },
          "metadata": {
            "tags": []
          },
          "execution_count": 312
        }
      ]
    },
    {
      "cell_type": "code",
      "metadata": {
        "id": "7oYcVAz7N00I",
        "colab_type": "code",
        "colab": {}
      },
      "source": [
        ""
      ],
      "execution_count": 0,
      "outputs": []
    },
    {
      "cell_type": "markdown",
      "metadata": {
        "id": "G8-Lpt-DOKCJ",
        "colab_type": "text"
      },
      "source": [
        "**MOSTRANDO O CUSTO**"
      ]
    },
    {
      "cell_type": "code",
      "metadata": {
        "id": "Idx0WSbGONlI",
        "colab_type": "code",
        "colab": {
          "base_uri": "https://localhost:8080/",
          "height": 312
        },
        "outputId": "119d4a5e-1318-4c30-a7a2-59e72c8dcd9f"
      },
      "source": [
        "#plotando o custo\n",
        "fig, ax = plt.subplots()  \n",
        "ax.plot(np.arange(epoch), cost, 'r')  \n",
        "ax.set_xlabel('Iterações')  \n",
        "ax.set_ylabel('Custo')  \n",
        "ax.set_title('Erro vs. Epoch')"
      ],
      "execution_count": 313,
      "outputs": [
        {
          "output_type": "execute_result",
          "data": {
            "text/plain": [
              "Text(0.5, 1.0, 'Erro vs. Epoch')"
            ]
          },
          "metadata": {
            "tags": []
          },
          "execution_count": 313
        },
        {
          "output_type": "display_data",
          "data": {
            "image/png": "[encoded data removed]",
            "text/plain": [
              "<Figure size 432x288 with 1 Axes>"
            ]
          },
          "metadata": {
            "tags": []
          }
        }
      ]
    },
    {
      "cell_type": "markdown",
      "metadata": {
        "id": "fK7XJ6M-bFeb",
        "colab_type": "text"
      },
      "source": [
        "**PREDIÇÃO**"
      ]
    },
    {
      "cell_type": "code",
      "metadata": {
        "id": "xY3k_m0MbM8B",
        "colab_type": "code",
        "colab": {
          "base_uri": "https://localhost:8080/",
          "height": 34
        },
        "outputId": "b3051caa-877e-4031-ff99-7f30ea19d6e0"
      },
      "source": [
        "X_ent =(np.array([20, 1.4 ])-X_mean) / X_std\n",
        "\n",
        "X_ent = np.concatenate((np.array([1]) , X_ent),axis=0)\n",
        "X_ent"
      ],
      "execution_count": 314,
      "outputs": [
        {
          "output_type": "execute_result",
          "data": {
            "text/plain": [
              "array([1.        , 0.23949447, 1.29159353])"
            ]
          },
          "metadata": {
            "tags": []
          },
          "execution_count": 314
        }
      ]
    },
    {
      "cell_type": "code",
      "metadata": {
        "id": "itVbnEYJb0cX",
        "colab_type": "code",
        "colab": {
          "base_uri": "https://localhost:8080/",
          "height": 34
        },
        "outputId": "e75b1219-7ed0-4045-843d-d7ffad8d44f4"
      },
      "source": [
        "y_pred = X_ent@w.T\n",
        "y_pred"
      ],
      "execution_count": 315,
      "outputs": [
        {
          "output_type": "execute_result",
          "data": {
            "text/plain": [
              "array([0.63054607])"
            ]
          },
          "metadata": {
            "tags": []
          },
          "execution_count": 315
        }
      ]
    },
    {
      "cell_type": "markdown",
      "metadata": {
        "id": "UHkR2MhUoNpv",
        "colab_type": "text"
      },
      "source": [
        "**DESNORMALIZANDO O VALOR PREDITO PELO MODELO**"
      ]
    },
    {
      "cell_type": "code",
      "metadata": {
        "id": "IftuL1WboX5S",
        "colab_type": "code",
        "colab": {}
      },
      "source": [
        "pred =y_pred*y_std - y_mean"
      ],
      "execution_count": 0,
      "outputs": []
    },
    {
      "cell_type": "code",
      "metadata": {
        "id": "MeWS7HZToX3T",
        "colab_type": "code",
        "colab": {
          "base_uri": "https://localhost:8080/",
          "height": 34
        },
        "outputId": "c3bb3c77-506f-4ea5-b781-564ead3cdcb3"
      },
      "source": [
        "pred"
      ],
      "execution_count": 317,
      "outputs": [
        {
          "output_type": "execute_result",
          "data": {
            "text/plain": [
              "array([-31.22962557])"
            ]
          },
          "metadata": {
            "tags": []
          },
          "execution_count": 317
        }
      ]
    },
    {
      "cell_type": "code",
      "metadata": {
        "id": "arA2c2VZo95q",
        "colab_type": "code",
        "colab": {}
      },
      "source": [
        ""
      ],
      "execution_count": 0,
      "outputs": []
    }
  ]
}