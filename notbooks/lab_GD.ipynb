{
  "nbformat": 4,
  "nbformat_minor": 0,
  "metadata": {
    "kernelspec": {
      "display_name": "Python 3",
      "language": "python",
      "name": "python3"
    },
    "language_info": {
      "codemirror_mode": {
        "name": "ipython",
        "version": 3
      },
      "file_extension": ".py",
      "mimetype": "text/x-python",
      "name": "python",
      "nbconvert_exporter": "python",
      "pygments_lexer": "ipython3",
      "version": "3.7.6"
    },
    "colab": {
      "name": "lab_GD.ipynb",
      "provenance": [],
      "toc_visible": true
    }
  },
  "cells": [
    {
      "cell_type": "markdown",
      "metadata": {
        "id": "f2OEn1yQeCTK",
        "colab_type": "text"
      },
      "source": [
        "IMPORTANTO AS BIBLIOTECAS\n"
      ]
    },
    {
      "cell_type": "code",
      "metadata": {
        "id": "ce7PioXIZ-og",
        "colab_type": "code",
        "colab": {}
      },
      "source": [
        "import numpy as np\n",
        "import pandas as pd"
      ],
      "execution_count": 0,
      "outputs": []
    },
    {
      "cell_type": "markdown",
      "metadata": {
        "id": "blqPt2NMeMkz",
        "colab_type": "text"
      },
      "source": [
        "DEFININDO A BASE DE DADOS"
      ]
    },
    {
      "cell_type": "code",
      "metadata": {
        "id": "iuI9N7XMZ-op",
        "colab_type": "code",
        "colab": {}
      },
      "source": [
        "data_table = pd.DataFrame({'Peso': np.array([40.0, 93.5, 35.5, 30.0, 52.0, 17.0, 38.5,  8.5, 33.0,  9.5, 21.0, 79.0]) / 2.205,\n",
        "                            'Altura': np.array([42.8, 63.5, 37.5, 39.5, 45.5, 38.5, 43.0, 22.5, 37.0, 23.5, 33.0, 58.0]) / 39.37,\n",
        "                            'Cateter': [37, 50, 34, 36, 43, 28, 37, 20, 34, 30, 38, 47]},\n",
        "                            dtype='float')"
      ],
      "execution_count": 0,
      "outputs": []
    },
    {
      "cell_type": "code",
      "metadata": {
        "id": "2Nf0LW8ZZ-ou",
        "colab_type": "code",
        "colab": {
          "base_uri": "https://localhost:8080/",
          "height": 421
        },
        "outputId": "8a5728cd-f96b-4334-82fe-c5b2e92bc30a"
      },
      "source": [
        "data_table"
      ],
      "execution_count": 22,
      "outputs": [
        {
          "output_type": "execute_result",
          "data": {
            "text/html": [
              "<div>\n",
              "<style scoped>\n",
              "    .dataframe tbody tr th:only-of-type {\n",
              "        vertical-align: middle;\n",
              "    }\n",
              "\n",
              "    .dataframe tbody tr th {\n",
              "        vertical-align: top;\n",
              "    }\n",
              "\n",
              "    .dataframe thead th {\n",
              "        text-align: right;\n",
              "    }\n",
              "</style>\n",
              "<table border=\"1\" class=\"dataframe\">\n",
              "  <thead>\n",
              "    <tr style=\"text-align: right;\">\n",
              "      <th></th>\n",
              "      <th>Peso</th>\n",
              "      <th>Altura</th>\n",
              "      <th>Cateter</th>\n",
              "    </tr>\n",
              "  </thead>\n",
              "  <tbody>\n",
              "    <tr>\n",
              "      <th>0</th>\n",
              "      <td>18.140590</td>\n",
              "      <td>1.087122</td>\n",
              "      <td>37.0</td>\n",
              "    </tr>\n",
              "    <tr>\n",
              "      <th>1</th>\n",
              "      <td>42.403628</td>\n",
              "      <td>1.612903</td>\n",
              "      <td>50.0</td>\n",
              "    </tr>\n",
              "    <tr>\n",
              "      <th>2</th>\n",
              "      <td>16.099773</td>\n",
              "      <td>0.952502</td>\n",
              "      <td>34.0</td>\n",
              "    </tr>\n",
              "    <tr>\n",
              "      <th>3</th>\n",
              "      <td>13.605442</td>\n",
              "      <td>1.003302</td>\n",
              "      <td>36.0</td>\n",
              "    </tr>\n",
              "    <tr>\n",
              "      <th>4</th>\n",
              "      <td>23.582766</td>\n",
              "      <td>1.155702</td>\n",
              "      <td>43.0</td>\n",
              "    </tr>\n",
              "    <tr>\n",
              "      <th>5</th>\n",
              "      <td>7.709751</td>\n",
              "      <td>0.977902</td>\n",
              "      <td>28.0</td>\n",
              "    </tr>\n",
              "    <tr>\n",
              "      <th>6</th>\n",
              "      <td>17.460317</td>\n",
              "      <td>1.092202</td>\n",
              "      <td>37.0</td>\n",
              "    </tr>\n",
              "    <tr>\n",
              "      <th>7</th>\n",
              "      <td>3.854875</td>\n",
              "      <td>0.571501</td>\n",
              "      <td>20.0</td>\n",
              "    </tr>\n",
              "    <tr>\n",
              "      <th>8</th>\n",
              "      <td>14.965986</td>\n",
              "      <td>0.939802</td>\n",
              "      <td>34.0</td>\n",
              "    </tr>\n",
              "    <tr>\n",
              "      <th>9</th>\n",
              "      <td>4.308390</td>\n",
              "      <td>0.596901</td>\n",
              "      <td>30.0</td>\n",
              "    </tr>\n",
              "    <tr>\n",
              "      <th>10</th>\n",
              "      <td>9.523810</td>\n",
              "      <td>0.838202</td>\n",
              "      <td>38.0</td>\n",
              "    </tr>\n",
              "    <tr>\n",
              "      <th>11</th>\n",
              "      <td>35.827664</td>\n",
              "      <td>1.473203</td>\n",
              "      <td>47.0</td>\n",
              "    </tr>\n",
              "  </tbody>\n",
              "</table>\n",
              "</div>"
            ],
            "text/plain": [
              "         Peso    Altura  Cateter\n",
              "0   18.140590  1.087122     37.0\n",
              "1   42.403628  1.612903     50.0\n",
              "2   16.099773  0.952502     34.0\n",
              "3   13.605442  1.003302     36.0\n",
              "4   23.582766  1.155702     43.0\n",
              "5    7.709751  0.977902     28.0\n",
              "6   17.460317  1.092202     37.0\n",
              "7    3.854875  0.571501     20.0\n",
              "8   14.965986  0.939802     34.0\n",
              "9    4.308390  0.596901     30.0\n",
              "10   9.523810  0.838202     38.0\n",
              "11  35.827664  1.473203     47.0"
            ]
          },
          "metadata": {
            "tags": []
          },
          "execution_count": 22
        }
      ]
    },
    {
      "cell_type": "markdown",
      "metadata": {
        "id": "WXamRPZ0edt_",
        "colab_type": "text"
      },
      "source": [
        "EXTRAINDO OS DADOS PARA ARRAY"
      ]
    },
    {
      "cell_type": "code",
      "metadata": {
        "id": "qaOPHx4vZ-o0",
        "colab_type": "code",
        "colab": {}
      },
      "source": [
        "X = data_table[['Peso', 'Altura']].values\n",
        "y = data_table[['Cateter']].values"
      ],
      "execution_count": 0,
      "outputs": []
    },
    {
      "cell_type": "code",
      "metadata": {
        "id": "fwNNVWKiZ-o_",
        "colab_type": "code",
        "colab": {}
      },
      "source": [
        "def normalization(X, normalization_type='std'):\n",
        "    X_mean = X.mean(axis = 0)\n",
        "    X_std = X.std(axis = 0)\n",
        "    return (X-X_mean)/ X_std, X_mean, X_std\n",
        "\n",
        "def denormalization(X, X_mean, X_std, normalization_type='std'):\n",
        "    return (X*X_std) + X_mean\n",
        "\n",
        "def gd(X, y):\n",
        "    return \n",
        "\n",
        "def sgd(X, y):\n",
        "    return\n",
        "\n",
        "def ols(X, y):\n",
        "    return"
      ],
      "execution_count": 0,
      "outputs": []
    },
    {
      "cell_type": "code",
      "metadata": {
        "id": "QJ0TaS50Z-pE",
        "colab_type": "code",
        "colab": {}
      },
      "source": [
        "X_norm, X_mean, X_std = normalization(X)\n",
        "y_norm, y_mean, y_std = normalization(y)"
      ],
      "execution_count": 0,
      "outputs": []
    },
    {
      "cell_type": "code",
      "metadata": {
        "id": "0Mo0KT9TZ-pJ",
        "colab_type": "code",
        "colab": {}
      },
      "source": [
        "y_denorm = denormalization(y_norm,y_mean, y_std)\n",
        "X_denorm = denormalization(X_norm,X_mean, X_std)"
      ],
      "execution_count": 0,
      "outputs": []
    }
  ]
}